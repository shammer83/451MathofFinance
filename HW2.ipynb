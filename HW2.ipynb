{
 "cells": [
  {
   "cell_type": "markdown",
   "metadata": {},
   "source": [
    "#### 1.13"
   ]
  },
  {
   "cell_type": "markdown",
   "metadata": {},
   "source": [
    "#### 1.14\n",
    "\n",
    "Verify that $Cov(X,Y) = E[XY] - E[X][Y]$\n",
    "\n",
    "\n",
    "##### 1.14 Solution\n",
    "\n",
    "Given $E[X] = \\mu$\n",
    "\n",
    "$Cov(X,Y) = E[(X - E[X)(Y-E[Y])]$ \n",
    "\n",
    "$ = E[(XY - XE[Y] - E[X]Y + \\mu_X\\mu_Y)]$\n",
    "\n",
    "$ =E[(XY - X\\mu_Y - Y\\mu_X + \\mu_X \\mu_Y)]$\n",
    "\n",
    "$ = E[XY] - \\mu_YE[X] - \\mu_XE[Y] + \\mu_x \\mu_Y$ `by 1.7`\n",
    "\n",
    "$ = E[XY] - E[Y]E[X] - E[X]E[Y] + E[X]E[Y]$\n",
    "\n",
    "$ = E[XY] - E[X][Y]$\n"
   ]
  },
  {
   "cell_type": "markdown",
   "metadata": {},
   "source": [
    "#### 1.15a \n",
    "\n",
    "Prove $Cov(XY) = Cov(YX)$\n",
    "\n",
    "##### 1.15a solution\n",
    "$Cov (X,Y) = E[(X - E[X])(Y - E[Y])]$\n",
    "\n",
    "$ = E[(Y - E[Y])(X-E[X]]$ `by commutative property`\n",
    "\n",
    "$ = Cov(Y,X)$\n",
    "\n",
    "#### 1.15c\n",
    "\n",
    "Prove $Cov(cX,Y) = cCov(X, Y)$ \n",
    "\n",
    "##### 1.15c Solution\n",
    "\n",
    "$Cov(cX,Y) = E[c(X - E[x]) (Y - E[Y])]$\n",
    "\n",
    "$=E[cXY - cX\\mu_Y - cY\\mu_X + c\\mu_X \\mu_Y]$ \n",
    "\n",
    "$=cE[XY] - c\\mu_Y\\mu_X - cY\\mu_X + c\\mu_X\\mu_Y$\n",
    "\n",
    "$=c(E[XY] - E[X]E[Y])$\n",
    "\n",
    "$=cCov(X,Y)$"
   ]
  },
  {
   "cell_type": "code",
   "execution_count": null,
   "metadata": {},
   "outputs": [],
   "source": []
  }
 ],
 "metadata": {
  "kernelspec": {
   "display_name": "Python 3",
   "language": "python",
   "name": "python3"
  },
  "language_info": {
   "codemirror_mode": {
    "name": "ipython",
    "version": 3
   },
   "file_extension": ".py",
   "mimetype": "text/x-python",
   "name": "python",
   "nbconvert_exporter": "python",
   "pygments_lexer": "ipython3",
   "version": "3.8.5"
  }
 },
 "nbformat": 4,
 "nbformat_minor": 4
}
