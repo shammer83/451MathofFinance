{
 "cells": [
  {
   "cell_type": "code",
   "execution_count": 111,
   "metadata": {},
   "outputs": [],
   "source": [
    "library(\"tidyverse\")"
   ]
  },
  {
   "cell_type": "code",
   "execution_count": 112,
   "metadata": {},
   "outputs": [
    {
     "name": "stderr",
     "output_type": "stream",
     "text": [
      "\n",
      "\u001b[36m──\u001b[39m \u001b[1m\u001b[1mColumn specification\u001b[1m\u001b[22m \u001b[36m─────────────────────────────────────────────────────────────────────────────────────────────────────────────────────────────────────────────────────────────────────────────\u001b[39m\n",
      "cols(\n",
      "  i = \u001b[32mcol_double()\u001b[39m,\n",
      "  Zi = \u001b[32mcol_double()\u001b[39m,\n",
      "  Si = \u001b[32mcol_double()\u001b[39m\n",
      ")\n",
      "\n",
      "\n"
     ]
    },
    {
     "name": "stdout",
     "output_type": "stream",
     "text": [
      "[1] 0.2\n",
      "[1] 0.01\n",
      "[1] 252\n"
     ]
    }
   ],
   "source": [
    "##instantiate all the variables \n",
    "\n",
    "##create a data frame with the closing prices\n",
    "df <- read_csv(\"13.5.csv\")\n",
    "\n",
    "sigma <- 0.2 #the variance parameter\n",
    "\n",
    "r <- 0.01\n",
    "\n",
    "t <- 252 #there are 252 trading days in a year\n",
    "\n",
    "K <- 52 #strike price\n",
    "\n",
    "print(sigma)\n",
    "print(r)\n",
    "print(t)\n"
   ]
  },
  {
   "cell_type": "code",
   "execution_count": 113,
   "metadata": {},
   "outputs": [
    {
     "name": "stdout",
     "output_type": "stream",
     "text": [
      "[1] -0.01\n"
     ]
    }
   ],
   "source": [
    "mu <- (0.01 - (sigma^2)/2 ) #drift parameter \n",
    "\n",
    "print(mu)"
   ]
  },
  {
   "cell_type": "code",
   "execution_count": 114,
   "metadata": {},
   "outputs": [
    {
     "name": "stdout",
     "output_type": "stream",
     "text": [
      "Rows: 7\n",
      "Columns: 4\n",
      "$ i    \u001b[3m\u001b[38;5;246m<int>\u001b[39m\u001b[23m 0, 1, 2, 3, 4, 5, 6\n",
      "$ Zi   \u001b[3m\u001b[38;5;246m<dbl>\u001b[39m\u001b[23m NA, -0.25, 0.30, 1.50, -1.20, -1.65, 1.50\n",
      "$ Si   \u001b[3m\u001b[38;5;246m<dbl>\u001b[39m\u001b[23m 50, NA, NA, NA, NA, NA, NA\n",
      "$ Si_1 \u001b[3m\u001b[38;5;246m<dbl>\u001b[39m\u001b[23m NA, 50, NA, NA, NA, NA, NA\n"
     ]
    }
   ],
   "source": [
    "df <- df %>% mutate(i = as.integer(i),\n",
    "                   Si_1 = lag(Si))\n",
    "\n",
    "\n",
    "\n",
    "df %>% glimpse()\n",
    "\n"
   ]
  },
  {
   "cell_type": "code",
   "execution_count": 50,
   "metadata": {},
   "outputs": [
    {
     "name": "stdout",
     "output_type": "stream",
     "text": [
      "[1] -0.003189386\n"
     ]
    }
   ],
   "source": [
    "#write a function that transforms the Zi normal to the price generated number\n",
    "normal_standard <- function(Zi, mu, sigma, t){\n",
    "    \n",
    "    #multiply Zi by the variance and devide by sqrt of 252 trading days\n",
    "    xi <- Zi*(sigma/sqrt(t))\n",
    "    \n",
    "    #then add mu divided by the variance\n",
    "    \n",
    "    xi <- xi + (mu/252)\n",
    "    \n",
    "}\n",
    "\n",
    "#test the function\n",
    "\n",
    "xi <- normal_standard(-0.25,mu,sigma, t)\n",
    "\n",
    "print(xi)"
   ]
  },
  {
   "cell_type": "code",
   "execution_count": 117,
   "metadata": {},
   "outputs": [
    {
     "data": {
      "text/html": [
       "<table class=\"dataframe\">\n",
       "<caption>A tibble: 7 × 5</caption>\n",
       "<thead>\n",
       "\t<tr><th scope=col>i</th><th scope=col>Zi</th><th scope=col>Si</th><th scope=col>Si_1</th><th scope=col>Xi</th></tr>\n",
       "\t<tr><th scope=col>&lt;int&gt;</th><th scope=col>&lt;dbl&gt;</th><th scope=col>&lt;dbl&gt;</th><th scope=col>&lt;dbl&gt;</th><th scope=col>&lt;dbl&gt;</th></tr>\n",
       "</thead>\n",
       "<tbody>\n",
       "\t<tr><td>0</td><td>   NA</td><td>50</td><td>NA</td><td>          NA</td></tr>\n",
       "\t<tr><td>1</td><td>-0.25</td><td>NA</td><td>50</td><td>-0.003189386</td></tr>\n",
       "\t<tr><td>2</td><td> 0.30</td><td>NA</td><td>NA</td><td> 0.003739962</td></tr>\n",
       "\t<tr><td>3</td><td> 1.50</td><td>NA</td><td>NA</td><td> 0.018858541</td></tr>\n",
       "\t<tr><td>4</td><td>-1.20</td><td>NA</td><td>NA</td><td>-0.015158261</td></tr>\n",
       "\t<tr><td>5</td><td>-1.65</td><td>NA</td><td>NA</td><td>-0.020827729</td></tr>\n",
       "\t<tr><td>6</td><td> 1.50</td><td>NA</td><td>NA</td><td> 0.018858541</td></tr>\n",
       "</tbody>\n",
       "</table>\n"
      ],
      "text/latex": [
       "A tibble: 7 × 5\n",
       "\\begin{tabular}{lllll}\n",
       " i & Zi & Si & Si\\_1 & Xi\\\\\n",
       " <int> & <dbl> & <dbl> & <dbl> & <dbl>\\\\\n",
       "\\hline\n",
       "\t 0 &    NA & 50 & NA &           NA\\\\\n",
       "\t 1 & -0.25 & NA & 50 & -0.003189386\\\\\n",
       "\t 2 &  0.30 & NA & NA &  0.003739962\\\\\n",
       "\t 3 &  1.50 & NA & NA &  0.018858541\\\\\n",
       "\t 4 & -1.20 & NA & NA & -0.015158261\\\\\n",
       "\t 5 & -1.65 & NA & NA & -0.020827729\\\\\n",
       "\t 6 &  1.50 & NA & NA &  0.018858541\\\\\n",
       "\\end{tabular}\n"
      ],
      "text/markdown": [
       "\n",
       "A tibble: 7 × 5\n",
       "\n",
       "| i &lt;int&gt; | Zi &lt;dbl&gt; | Si &lt;dbl&gt; | Si_1 &lt;dbl&gt; | Xi &lt;dbl&gt; |\n",
       "|---|---|---|---|---|\n",
       "| 0 |    NA | 50 | NA |           NA |\n",
       "| 1 | -0.25 | NA | 50 | -0.003189386 |\n",
       "| 2 |  0.30 | NA | NA |  0.003739962 |\n",
       "| 3 |  1.50 | NA | NA |  0.018858541 |\n",
       "| 4 | -1.20 | NA | NA | -0.015158261 |\n",
       "| 5 | -1.65 | NA | NA | -0.020827729 |\n",
       "| 6 |  1.50 | NA | NA |  0.018858541 |\n",
       "\n"
      ],
      "text/plain": [
       "  i Zi    Si Si_1 Xi          \n",
       "1 0    NA 50 NA             NA\n",
       "2 1 -0.25 NA 50   -0.003189386\n",
       "3 2  0.30 NA NA    0.003739962\n",
       "4 3  1.50 NA NA    0.018858541\n",
       "5 4 -1.20 NA NA   -0.015158261\n",
       "6 5 -1.65 NA NA   -0.020827729\n",
       "7 6  1.50 NA NA    0.018858541"
      ]
     },
     "metadata": {},
     "output_type": "display_data"
    }
   ],
   "source": [
    "#map the function over the data frame \n",
    "\n",
    "df<- df%>% mutate(Xi = normal_standard(Zi, mu, sigma, t))\n",
    "\n",
    "df %>% head(7)"
   ]
  },
  {
   "cell_type": "code",
   "execution_count": 119,
   "metadata": {},
   "outputs": [
    {
     "name": "stdout",
     "output_type": "stream",
     "text": [
      "[1] 1\n",
      "[1] 2\n",
      "[1] 50\n",
      "[1] -0.003189386\n",
      "[1] 49.84078\n"
     ]
    }
   ],
   "source": [
    "  #calculate the next price\n",
    "    i = 1\n",
    "    lead = i+1\n",
    "    print(i)\n",
    "    print(lead)\n",
    "    print(df$Si[[i]])\n",
    "    print(df$Xi[[lead]])\n",
    "    df$Si[[lead]] <- df$Si[[i]]*exp(1)^df$Xi[[lead]]\n",
    "    print(df$Si[[lead]])\n",
    "    "
   ]
  },
  {
   "cell_type": "code",
   "execution_count": 139,
   "metadata": {},
   "outputs": [
    {
     "name": "stdout",
     "output_type": "stream",
     "text": [
      "[1] 1\n",
      "[1] 2\n",
      "[1] 50\n",
      "[1] -0.003189386\n",
      "[1] 49.84078\n",
      "[1] 2\n",
      "[1] 3\n",
      "[1] 49.84078\n",
      "[1] 0.003739962\n",
      "[1] 50.02754\n",
      "[1] 3\n",
      "[1] 4\n",
      "[1] 50.02754\n",
      "[1] 0.01885854\n",
      "[1] 50.97993\n",
      "[1] 4\n",
      "[1] 5\n",
      "[1] 50.97993\n",
      "[1] -0.01515826\n",
      "[1] 50.213\n",
      "[1] 5\n",
      "[1] 6\n",
      "[1] 50.213\n",
      "[1] -0.02082773\n",
      "[1] 49.17799\n",
      "[1] 6\n",
      "[1] 7\n",
      "[1] 49.17799\n",
      "[1] 0.01885854\n",
      "[1] 50.11421\n",
      "[1] 7\n",
      "[1] 8\n",
      "[1] 50.11421\n"
     ]
    },
    {
     "ename": "ERROR",
     "evalue": "Error in df$Xi[[lead]]: subscript out of bounds\n",
     "output_type": "error",
     "traceback": [
      "Error in df$Xi[[lead]]: subscript out of bounds\nTraceback:\n",
      "1. print(df$Xi[[lead]])"
     ]
    }
   ],
   "source": [
    "#create output vector of equal lenght that pricing \n",
    "\n",
    "\n",
    "\n",
    "\n",
    "for (i in 1:nrow(df)){\n",
    "    \n",
    "    lead = i +1\n",
    "    print(i)\n",
    "    print(lead)\n",
    "    print(df$Si[[i]])\n",
    "    print(df$Xi[[lead]])\n",
    "    df$Si[[lead]] <- df$Si[[i]]*exp(1)^df$Xi[[lead]]\n",
    "    print(df$Si[[lead]])\n",
    "    \n",
    "\n",
    "}\n",
    "\n"
   ]
  },
  {
   "cell_type": "code",
   "execution_count": 140,
   "metadata": {},
   "outputs": [
    {
     "data": {
      "text/html": [
       "<table class=\"dataframe\">\n",
       "<caption>A tibble: 7 × 5</caption>\n",
       "<thead>\n",
       "\t<tr><th scope=col>i</th><th scope=col>Zi</th><th scope=col>Si</th><th scope=col>Si_1</th><th scope=col>Xi</th></tr>\n",
       "\t<tr><th scope=col>&lt;int&gt;</th><th scope=col>&lt;dbl&gt;</th><th scope=col>&lt;dbl&gt;</th><th scope=col>&lt;dbl&gt;</th><th scope=col>&lt;dbl&gt;</th></tr>\n",
       "</thead>\n",
       "<tbody>\n",
       "\t<tr><td>0</td><td>   NA</td><td>50.00000</td><td>NA</td><td>          NA</td></tr>\n",
       "\t<tr><td>1</td><td>-0.25</td><td>49.84078</td><td>50</td><td>-0.003189386</td></tr>\n",
       "\t<tr><td>2</td><td> 0.30</td><td>50.02754</td><td>NA</td><td> 0.003739962</td></tr>\n",
       "\t<tr><td>3</td><td> 1.50</td><td>50.97993</td><td>NA</td><td> 0.018858541</td></tr>\n",
       "\t<tr><td>4</td><td>-1.20</td><td>50.21300</td><td>NA</td><td>-0.015158261</td></tr>\n",
       "\t<tr><td>5</td><td>-1.65</td><td>49.17799</td><td>NA</td><td>-0.020827729</td></tr>\n",
       "\t<tr><td>6</td><td> 1.50</td><td>50.11421</td><td>NA</td><td> 0.018858541</td></tr>\n",
       "</tbody>\n",
       "</table>\n"
      ],
      "text/latex": [
       "A tibble: 7 × 5\n",
       "\\begin{tabular}{lllll}\n",
       " i & Zi & Si & Si\\_1 & Xi\\\\\n",
       " <int> & <dbl> & <dbl> & <dbl> & <dbl>\\\\\n",
       "\\hline\n",
       "\t 0 &    NA & 50.00000 & NA &           NA\\\\\n",
       "\t 1 & -0.25 & 49.84078 & 50 & -0.003189386\\\\\n",
       "\t 2 &  0.30 & 50.02754 & NA &  0.003739962\\\\\n",
       "\t 3 &  1.50 & 50.97993 & NA &  0.018858541\\\\\n",
       "\t 4 & -1.20 & 50.21300 & NA & -0.015158261\\\\\n",
       "\t 5 & -1.65 & 49.17799 & NA & -0.020827729\\\\\n",
       "\t 6 &  1.50 & 50.11421 & NA &  0.018858541\\\\\n",
       "\\end{tabular}\n"
      ],
      "text/markdown": [
       "\n",
       "A tibble: 7 × 5\n",
       "\n",
       "| i &lt;int&gt; | Zi &lt;dbl&gt; | Si &lt;dbl&gt; | Si_1 &lt;dbl&gt; | Xi &lt;dbl&gt; |\n",
       "|---|---|---|---|---|\n",
       "| 0 |    NA | 50.00000 | NA |           NA |\n",
       "| 1 | -0.25 | 49.84078 | 50 | -0.003189386 |\n",
       "| 2 |  0.30 | 50.02754 | NA |  0.003739962 |\n",
       "| 3 |  1.50 | 50.97993 | NA |  0.018858541 |\n",
       "| 4 | -1.20 | 50.21300 | NA | -0.015158261 |\n",
       "| 5 | -1.65 | 49.17799 | NA | -0.020827729 |\n",
       "| 6 |  1.50 | 50.11421 | NA |  0.018858541 |\n",
       "\n"
      ],
      "text/plain": [
       "  i Zi    Si       Si_1 Xi          \n",
       "1 0    NA 50.00000 NA             NA\n",
       "2 1 -0.25 49.84078 50   -0.003189386\n",
       "3 2  0.30 50.02754 NA    0.003739962\n",
       "4 3  1.50 50.97993 NA    0.018858541\n",
       "5 4 -1.20 50.21300 NA   -0.015158261\n",
       "6 5 -1.65 49.17799 NA   -0.020827729\n",
       "7 6  1.50 50.11421 NA    0.018858541"
      ]
     },
     "metadata": {},
     "output_type": "display_data"
    }
   ],
   "source": [
    "df %>% head(7)"
   ]
  },
  {
   "cell_type": "code",
   "execution_count": 45,
   "metadata": {},
   "outputs": [
    {
     "name": "stdout",
     "output_type": "stream",
     "text": [
      "[1] 49.84524\n"
     ]
    }
   ],
   "source": [
    "#create a function that takes the \n",
    "\n",
    "convert_to_price <- function(Si_1, Xi) {\n",
    "    \n",
    "    \n",
    "    price = Si_1*exp(1)^Xi \n",
    "    \n",
    "}\n",
    "\n",
    "#test the function\n",
    "\n",
    "print(convert_to_price(50, -0.0031))"
   ]
  },
  {
   "cell_type": "code",
   "execution_count": 46,
   "metadata": {},
   "outputs": [
    {
     "data": {
      "text/html": [
       "<table class=\"dataframe\">\n",
       "<caption>A tibble: 6 × 5</caption>\n",
       "<thead>\n",
       "\t<tr><th scope=col>i</th><th scope=col>Zi</th><th scope=col>Si</th><th scope=col>Si_1</th><th scope=col>Xi</th></tr>\n",
       "\t<tr><th scope=col>&lt;int&gt;</th><th scope=col>&lt;dbl&gt;</th><th scope=col>&lt;dbl&gt;</th><th scope=col>&lt;dbl&gt;</th><th scope=col>&lt;dbl&gt;</th></tr>\n",
       "</thead>\n",
       "<tbody>\n",
       "\t<tr><td>0</td><td>   NA</td><td>      NA</td><td>NA</td><td>          NA</td></tr>\n",
       "\t<tr><td>1</td><td>-0.25</td><td>49.84078</td><td>50</td><td>-0.003189386</td></tr>\n",
       "\t<tr><td>2</td><td> 0.30</td><td>      NA</td><td>NA</td><td> 0.003739962</td></tr>\n",
       "\t<tr><td>3</td><td> 1.50</td><td>      NA</td><td>NA</td><td> 0.018858541</td></tr>\n",
       "\t<tr><td>4</td><td>-1.20</td><td>      NA</td><td>NA</td><td>-0.015158261</td></tr>\n",
       "\t<tr><td>5</td><td>-1.65</td><td>      NA</td><td>NA</td><td>-0.020827729</td></tr>\n",
       "</tbody>\n",
       "</table>\n"
      ],
      "text/latex": [
       "A tibble: 6 × 5\n",
       "\\begin{tabular}{lllll}\n",
       " i & Zi & Si & Si\\_1 & Xi\\\\\n",
       " <int> & <dbl> & <dbl> & <dbl> & <dbl>\\\\\n",
       "\\hline\n",
       "\t 0 &    NA &       NA & NA &           NA\\\\\n",
       "\t 1 & -0.25 & 49.84078 & 50 & -0.003189386\\\\\n",
       "\t 2 &  0.30 &       NA & NA &  0.003739962\\\\\n",
       "\t 3 &  1.50 &       NA & NA &  0.018858541\\\\\n",
       "\t 4 & -1.20 &       NA & NA & -0.015158261\\\\\n",
       "\t 5 & -1.65 &       NA & NA & -0.020827729\\\\\n",
       "\\end{tabular}\n"
      ],
      "text/markdown": [
       "\n",
       "A tibble: 6 × 5\n",
       "\n",
       "| i &lt;int&gt; | Zi &lt;dbl&gt; | Si &lt;dbl&gt; | Si_1 &lt;dbl&gt; | Xi &lt;dbl&gt; |\n",
       "|---|---|---|---|---|\n",
       "| 0 |    NA |       NA | NA |           NA |\n",
       "| 1 | -0.25 | 49.84078 | 50 | -0.003189386 |\n",
       "| 2 |  0.30 |       NA | NA |  0.003739962 |\n",
       "| 3 |  1.50 |       NA | NA |  0.018858541 |\n",
       "| 4 | -1.20 |       NA | NA | -0.015158261 |\n",
       "| 5 | -1.65 |       NA | NA | -0.020827729 |\n",
       "\n"
      ],
      "text/plain": [
       "  i Zi    Si       Si_1 Xi          \n",
       "1 0    NA       NA NA             NA\n",
       "2 1 -0.25 49.84078 50   -0.003189386\n",
       "3 2  0.30       NA NA    0.003739962\n",
       "4 3  1.50       NA NA    0.018858541\n",
       "5 4 -1.20       NA NA   -0.015158261\n",
       "6 5 -1.65       NA NA   -0.020827729"
      ]
     },
     "metadata": {},
     "output_type": "display_data"
    }
   ],
   "source": [
    "#map the function over the dataframe\n",
    "\n",
    "df <- df %>% mutate(Si_1 = lag(Si),\n",
    "                    Si = convert_to_price(Si_1, Xi))\n",
    "\n",
    "df %>% head()"
   ]
  },
  {
   "cell_type": "code",
   "execution_count": 46,
   "metadata": {},
   "outputs": [
    {
     "name": "stdout",
     "output_type": "stream",
     "text": [
      "[1] 3968.63\n"
     ]
    }
   ],
   "source": [
    "#write a function that tranforms a closing price to standard normal\n",
    "z_standard <- function(closing_price, mu, sigma, t){\n",
    "    \n",
    "    #subtract mu divided by t from the price\n",
    "\n",
    "    x <- closing_price - (mu/t)\n",
    "    \n",
    "    \n",
    "    #then divide by (sigma divided by sqrt(t))\n",
    "    x <- x / (sigma / sqrt(t))\n",
    "    \n",
    "}\n",
    "\n",
    "\n",
    "zo <- z_standard(50, mu, sigma, t)\n",
    "\n",
    "print(zo)"
   ]
  },
  {
   "cell_type": "code",
   "execution_count": 48,
   "metadata": {},
   "outputs": [
    {
     "name": "stdout",
     "output_type": "stream",
     "text": [
      "[1]  0.003041615 -0.014494588  0.002149898 -0.007315728  0.003840657\n",
      "[6]  0.005011593\n"
     ]
    }
   ],
   "source": [
    "#generate six more closing prices from the random normal distribution \n",
    "\n",
    "x <- rnorm(n = 6, mean = (mu/t), sd = (sigma/sqrt(t)))\n",
    "           \n",
    "print(x)"
   ]
  },
  {
   "cell_type": "code",
   "execution_count": null,
   "metadata": {},
   "outputs": [],
   "source": []
  }
 ],
 "metadata": {
  "kernelspec": {
   "display_name": "R",
   "language": "R",
   "name": "ir"
  },
  "language_info": {
   "codemirror_mode": "r",
   "file_extension": ".r",
   "mimetype": "text/x-r-source",
   "name": "R",
   "pygments_lexer": "r",
   "version": "4.0.3"
  }
 },
 "nbformat": 4,
 "nbformat_minor": 4
}
