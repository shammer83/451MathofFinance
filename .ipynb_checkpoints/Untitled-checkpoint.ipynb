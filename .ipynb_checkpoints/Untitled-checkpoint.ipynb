{
 "cells": [
  {
   "cell_type": "code",
   "execution_count": 9,
   "metadata": {},
   "outputs": [
    {
     "name": "stdout",
     "output_type": "stream",
     "text": [
      "[1] 0.2\n",
      "[1] 0.01\n",
      "[1] -0.25  0.30  1.50 -1.20 -1.65  1.50\n"
     ]
    }
   ],
   "source": [
    "clos_numb <- c(-0.25, 0.3, 1.5, -1.2, -1.65, 1.5)\n",
    "\n",
    "sigma <- 0.2\n",
    "\n",
    "r <- 0.01\n",
    "\n",
    "print(sigma)\n",
    "print(r)\n",
    "print(clos_numb)"
   ]
  },
  {
   "cell_type": "code",
   "execution_count": 12,
   "metadata": {},
   "outputs": [
    {
     "name": "stdout",
     "output_type": "stream",
     "text": [
      "[1] -0.01\n"
     ]
    }
   ],
   "source": [
    "mu <- (0.01 - (sigma^2)/2 )\n",
    "\n",
    "print(mu)"
   ]
  },
  {
   "cell_type": "code",
   "execution_count": null,
   "metadata": {},
   "outputs": [],
   "source": [
    "df <- readcsv"
   ]
  }
 ],
 "metadata": {
  "kernelspec": {
   "display_name": "R",
   "language": "R",
   "name": "ir"
  },
  "language_info": {
   "codemirror_mode": "r",
   "file_extension": ".r",
   "mimetype": "text/x-r-source",
   "name": "R",
   "pygments_lexer": "r",
   "version": "4.0.3"
  }
 },
 "nbformat": 4,
 "nbformat_minor": 4
}
