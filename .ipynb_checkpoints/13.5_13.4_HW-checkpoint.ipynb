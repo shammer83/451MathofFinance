{
 "cells": [
  {
   "cell_type": "code",
   "execution_count": 3,
   "metadata": {},
   "outputs": [
    {
     "name": "stderr",
     "output_type": "stream",
     "text": [
      "── \u001b[1mAttaching packages\u001b[22m ─────────────────────────────────────── tidyverse 1.3.0 ──\n",
      "\n",
      "\u001b[32m✔\u001b[39m \u001b[34mggplot2\u001b[39m 3.3.3     \u001b[32m✔\u001b[39m \u001b[34mpurrr  \u001b[39m 0.3.4\n",
      "\u001b[32m✔\u001b[39m \u001b[34mtibble \u001b[39m 3.0.5     \u001b[32m✔\u001b[39m \u001b[34mdplyr  \u001b[39m 1.0.3\n",
      "\u001b[32m✔\u001b[39m \u001b[34mtidyr  \u001b[39m 1.1.2     \u001b[32m✔\u001b[39m \u001b[34mstringr\u001b[39m 1.4.0\n",
      "\u001b[32m✔\u001b[39m \u001b[34mreadr  \u001b[39m 1.4.0     \u001b[32m✔\u001b[39m \u001b[34mforcats\u001b[39m 0.5.1\n",
      "\n",
      "── \u001b[1mConflicts\u001b[22m ────────────────────────────────────────── tidyverse_conflicts() ──\n",
      "\u001b[31m✖\u001b[39m \u001b[34mdplyr\u001b[39m::\u001b[32mfilter()\u001b[39m masks \u001b[34mstats\u001b[39m::filter()\n",
      "\u001b[31m✖\u001b[39m \u001b[34mdplyr\u001b[39m::\u001b[32mlag()\u001b[39m    masks \u001b[34mstats\u001b[39m::lag()\n",
      "\n"
     ]
    }
   ],
   "source": [
    "library(\"tidyverse\")"
   ]
  },
  {
   "cell_type": "code",
   "execution_count": 4,
   "metadata": {},
   "outputs": [
    {
     "name": "stderr",
     "output_type": "stream",
     "text": [
      "\n",
      "\u001b[36m──\u001b[39m \u001b[1m\u001b[1mColumn specification\u001b[1m\u001b[22m \u001b[36m────────────────────────────────────────────────────────\u001b[39m\n",
      "cols(\n",
      "  i = \u001b[32mcol_double()\u001b[39m,\n",
      "  Zi = \u001b[32mcol_double()\u001b[39m,\n",
      "  Si = \u001b[32mcol_double()\u001b[39m\n",
      ")\n",
      "\n",
      "\n"
     ]
    },
    {
     "name": "stdout",
     "output_type": "stream",
     "text": [
      "[1] 0.2\n",
      "[1] 0.01\n",
      "[1] 252\n"
     ]
    }
   ],
   "source": [
    "##instantiate all the variables \n",
    "\n",
    "##create a data frame with the closing prices\n",
    "df <- read_csv(\"13.5.csv\")\n",
    "\n",
    "sigma <- 0.2 #the variance parameter\n",
    "\n",
    "r <- 0.01\n",
    "\n",
    "t <- 252 #there are 252 trading days in a year\n",
    "\n",
    "K <- 52 #strike price\n",
    "\n",
    "print(sigma)\n",
    "print(r)\n",
    "print(t)\n"
   ]
  },
  {
   "cell_type": "code",
   "execution_count": 5,
   "metadata": {},
   "outputs": [
    {
     "name": "stdout",
     "output_type": "stream",
     "text": [
      "[1] -0.01\n"
     ]
    }
   ],
   "source": [
    "mu <- (0.01 - (sigma^2)/2 ) #drift parameter \n",
    "\n",
    "print(mu)"
   ]
  },
  {
   "cell_type": "code",
   "execution_count": 6,
   "metadata": {},
   "outputs": [],
   "source": [
    "df <- df %>% mutate(i = as.integer(i))"
   ]
  },
  {
   "cell_type": "code",
   "execution_count": 7,
   "metadata": {},
   "outputs": [
    {
     "name": "stdout",
     "output_type": "stream",
     "text": [
      "[1] -0.003189386\n"
     ]
    }
   ],
   "source": [
    "#write a function that transforms the Zi normal to the price generated number\n",
    "normal_standard <- function(Zi, mu, sigma, t){\n",
    "    \n",
    "    #multiply Zi by the variance and devide by sqrt of 252 trading days\n",
    "    xi <- Zi*(sigma/sqrt(t))\n",
    "    \n",
    "    #then add mu divided by the variance\n",
    "    \n",
    "    xi <- xi + (mu/252)\n",
    "    \n",
    "}\n",
    "\n",
    "#test the function\n",
    "\n",
    "xi <- normal_standard(-0.25,mu,sigma, t)\n",
    "\n",
    "print(xi)"
   ]
  },
  {
   "cell_type": "code",
   "execution_count": 8,
   "metadata": {},
   "outputs": [
    {
     "data": {
      "text/html": [
       "<table class=\"dataframe\">\n",
       "<caption>A tibble: 7 × 4</caption>\n",
       "<thead>\n",
       "\t<tr><th scope=col>i</th><th scope=col>Zi</th><th scope=col>Si</th><th scope=col>Xi</th></tr>\n",
       "\t<tr><th scope=col>&lt;int&gt;</th><th scope=col>&lt;dbl&gt;</th><th scope=col>&lt;dbl&gt;</th><th scope=col>&lt;dbl&gt;</th></tr>\n",
       "</thead>\n",
       "<tbody>\n",
       "\t<tr><td>0</td><td>   NA</td><td>50</td><td>          NA</td></tr>\n",
       "\t<tr><td>1</td><td>-0.25</td><td>NA</td><td>-0.003189386</td></tr>\n",
       "\t<tr><td>2</td><td> 0.30</td><td>NA</td><td> 0.003739962</td></tr>\n",
       "\t<tr><td>3</td><td> 1.50</td><td>NA</td><td> 0.018858541</td></tr>\n",
       "\t<tr><td>4</td><td>-1.20</td><td>NA</td><td>-0.015158261</td></tr>\n",
       "\t<tr><td>5</td><td>-1.65</td><td>NA</td><td>-0.020827729</td></tr>\n",
       "\t<tr><td>6</td><td> 1.50</td><td>NA</td><td> 0.018858541</td></tr>\n",
       "</tbody>\n",
       "</table>\n"
      ],
      "text/latex": [
       "A tibble: 7 × 4\n",
       "\\begin{tabular}{llll}\n",
       " i & Zi & Si & Xi\\\\\n",
       " <int> & <dbl> & <dbl> & <dbl>\\\\\n",
       "\\hline\n",
       "\t 0 &    NA & 50 &           NA\\\\\n",
       "\t 1 & -0.25 & NA & -0.003189386\\\\\n",
       "\t 2 &  0.30 & NA &  0.003739962\\\\\n",
       "\t 3 &  1.50 & NA &  0.018858541\\\\\n",
       "\t 4 & -1.20 & NA & -0.015158261\\\\\n",
       "\t 5 & -1.65 & NA & -0.020827729\\\\\n",
       "\t 6 &  1.50 & NA &  0.018858541\\\\\n",
       "\\end{tabular}\n"
      ],
      "text/markdown": [
       "\n",
       "A tibble: 7 × 4\n",
       "\n",
       "| i &lt;int&gt; | Zi &lt;dbl&gt; | Si &lt;dbl&gt; | Xi &lt;dbl&gt; |\n",
       "|---|---|---|---|\n",
       "| 0 |    NA | 50 |           NA |\n",
       "| 1 | -0.25 | NA | -0.003189386 |\n",
       "| 2 |  0.30 | NA |  0.003739962 |\n",
       "| 3 |  1.50 | NA |  0.018858541 |\n",
       "| 4 | -1.20 | NA | -0.015158261 |\n",
       "| 5 | -1.65 | NA | -0.020827729 |\n",
       "| 6 |  1.50 | NA |  0.018858541 |\n",
       "\n"
      ],
      "text/plain": [
       "  i Zi    Si Xi          \n",
       "1 0    NA 50           NA\n",
       "2 1 -0.25 NA -0.003189386\n",
       "3 2  0.30 NA  0.003739962\n",
       "4 3  1.50 NA  0.018858541\n",
       "5 4 -1.20 NA -0.015158261\n",
       "6 5 -1.65 NA -0.020827729\n",
       "7 6  1.50 NA  0.018858541"
      ]
     },
     "metadata": {},
     "output_type": "display_data"
    }
   ],
   "source": [
    "#map the function over the data frame \n",
    "\n",
    "df<- df%>% mutate(Xi = normal_standard(Zi, mu, sigma, t))\n",
    "\n",
    "df %>% head(7)"
   ]
  },
  {
   "cell_type": "code",
   "execution_count": 10,
   "metadata": {},
   "outputs": [
    {
     "name": "stdout",
     "output_type": "stream",
     "text": [
      "[1] 1\n",
      "[1] 2\n",
      "[1] 50\n",
      "[1] -0.003189386\n",
      "[1] 49.84078\n",
      "[1] 2\n",
      "[1] 3\n",
      "[1] 49.84078\n",
      "[1] 0.003739962\n",
      "[1] 50.02754\n",
      "[1] 3\n",
      "[1] 4\n",
      "[1] 50.02754\n",
      "[1] 0.01885854\n",
      "[1] 50.97993\n",
      "[1] 4\n",
      "[1] 5\n",
      "[1] 50.97993\n",
      "[1] -0.01515826\n",
      "[1] 50.213\n",
      "[1] 5\n",
      "[1] 6\n",
      "[1] 50.213\n",
      "[1] -0.02082773\n",
      "[1] 49.17799\n",
      "[1] 6\n",
      "[1] 7\n",
      "[1] 49.17799\n",
      "[1] 0.01885854\n",
      "[1] 50.11421\n",
      "[1] 7\n",
      "[1] 8\n",
      "[1] 50.11421\n"
     ]
    },
    {
     "ename": "ERROR",
     "evalue": "Error in df$Xi[[lead]]: subscript out of bounds\n",
     "output_type": "error",
     "traceback": [
      "Error in df$Xi[[lead]]: subscript out of bounds\nTraceback:\n",
      "1. print(df$Xi[[lead]])"
     ]
    }
   ],
   "source": [
    "\n",
    "#loop over the Xi vector to calculate closing prices\n",
    "for (i in 1:nrow(df)){\n",
    "    \n",
    "    lead = i +1\n",
    "    df$Si[[lead]] <- df$Si[[i]]*exp(1)^df$Xi[[lead]]\n",
    "}\n",
    "\n"
   ]
  },
  {
   "cell_type": "code",
   "execution_count": 11,
   "metadata": {},
   "outputs": [
    {
     "data": {
      "text/html": [
       "<table class=\"dataframe\">\n",
       "<caption>A tibble: 7 × 4</caption>\n",
       "<thead>\n",
       "\t<tr><th scope=col>i</th><th scope=col>Zi</th><th scope=col>Si</th><th scope=col>Xi</th></tr>\n",
       "\t<tr><th scope=col>&lt;int&gt;</th><th scope=col>&lt;dbl&gt;</th><th scope=col>&lt;dbl&gt;</th><th scope=col>&lt;dbl&gt;</th></tr>\n",
       "</thead>\n",
       "<tbody>\n",
       "\t<tr><td>0</td><td>   NA</td><td>50.00000</td><td>          NA</td></tr>\n",
       "\t<tr><td>1</td><td>-0.25</td><td>49.84078</td><td>-0.003189386</td></tr>\n",
       "\t<tr><td>2</td><td> 0.30</td><td>50.02754</td><td> 0.003739962</td></tr>\n",
       "\t<tr><td>3</td><td> 1.50</td><td>50.97993</td><td> 0.018858541</td></tr>\n",
       "\t<tr><td>4</td><td>-1.20</td><td>50.21300</td><td>-0.015158261</td></tr>\n",
       "\t<tr><td>5</td><td>-1.65</td><td>49.17799</td><td>-0.020827729</td></tr>\n",
       "\t<tr><td>6</td><td> 1.50</td><td>50.11421</td><td> 0.018858541</td></tr>\n",
       "</tbody>\n",
       "</table>\n"
      ],
      "text/latex": [
       "A tibble: 7 × 4\n",
       "\\begin{tabular}{llll}\n",
       " i & Zi & Si & Xi\\\\\n",
       " <int> & <dbl> & <dbl> & <dbl>\\\\\n",
       "\\hline\n",
       "\t 0 &    NA & 50.00000 &           NA\\\\\n",
       "\t 1 & -0.25 & 49.84078 & -0.003189386\\\\\n",
       "\t 2 &  0.30 & 50.02754 &  0.003739962\\\\\n",
       "\t 3 &  1.50 & 50.97993 &  0.018858541\\\\\n",
       "\t 4 & -1.20 & 50.21300 & -0.015158261\\\\\n",
       "\t 5 & -1.65 & 49.17799 & -0.020827729\\\\\n",
       "\t 6 &  1.50 & 50.11421 &  0.018858541\\\\\n",
       "\\end{tabular}\n"
      ],
      "text/markdown": [
       "\n",
       "A tibble: 7 × 4\n",
       "\n",
       "| i &lt;int&gt; | Zi &lt;dbl&gt; | Si &lt;dbl&gt; | Xi &lt;dbl&gt; |\n",
       "|---|---|---|---|\n",
       "| 0 |    NA | 50.00000 |           NA |\n",
       "| 1 | -0.25 | 49.84078 | -0.003189386 |\n",
       "| 2 |  0.30 | 50.02754 |  0.003739962 |\n",
       "| 3 |  1.50 | 50.97993 |  0.018858541 |\n",
       "| 4 | -1.20 | 50.21300 | -0.015158261 |\n",
       "| 5 | -1.65 | 49.17799 | -0.020827729 |\n",
       "| 6 |  1.50 | 50.11421 |  0.018858541 |\n",
       "\n"
      ],
      "text/plain": [
       "  i Zi    Si       Xi          \n",
       "1 0    NA 50.00000           NA\n",
       "2 1 -0.25 49.84078 -0.003189386\n",
       "3 2  0.30 50.02754  0.003739962\n",
       "4 3  1.50 50.97993  0.018858541\n",
       "5 4 -1.20 50.21300 -0.015158261\n",
       "6 5 -1.65 49.17799 -0.020827729\n",
       "7 6  1.50 50.11421  0.018858541"
      ]
     },
     "metadata": {},
     "output_type": "display_data"
    }
   ],
   "source": [
    "df %>% head(7)"
   ]
  },
  {
   "cell_type": "markdown",
   "metadata": {},
   "source": [
    "# Part 2 \n",
    "## Generate 6 more simulated daily closing prices"
   ]
  },
  {
   "cell_type": "code",
   "execution_count": 87,
   "metadata": {},
   "outputs": [
    {
     "name": "stdout",
     "output_type": "stream",
     "text": [
      "[1] -3.968254e-05\n",
      "[1] 0.0001587302\n",
      "[1] -2.628115e-04  4.731965e-05  3.698051e-05 -1.415038e-05 -1.262229e-04\n",
      "[6] -9.184504e-05\n"
     ]
    }
   ],
   "source": [
    "#generate 6 random points from a normal distribution\n",
    "\n",
    "cent <- mu/t\n",
    "dev <- (sigma^2)/t\n",
    "\n",
    "print(cent)\n",
    "print(dev)\n",
    "\n",
    "\n",
    "#random normal generated values for Xi\n",
    "rand_Xi <- rnorm(6, mean = cent, sd = dev)\n",
    "\n",
    "print(rand_Xi)"
   ]
  },
  {
   "cell_type": "code",
   "execution_count": 88,
   "metadata": {},
   "outputs": [
    {
     "name": "stdout",
     "output_type": "stream",
     "text": [
      "[1]  0.000000e+00 -1.381145e-05 -2.681216e-04  1.764453e-04  4.329975e-05\n",
      "[6]  1.345644e-04 -1.725527e-04\n",
      "[1]  0.000000e+00 -1.381145e-05 -2.681216e-04  1.764453e-04  4.329975e-05\n",
      "[6]  1.345644e-04 -1.725527e-04\n"
     ]
    }
   ],
   "source": [
    "#create an empty vector for Xi\n",
    "Xi <- c()\n",
    "# \n",
    "Xi <- append(0,rand_vars)\n",
    "\n",
    "print(Xi)"
   ]
  },
  {
   "cell_type": "code",
   "execution_count": 89,
   "metadata": {},
   "outputs": [
    {
     "data": {
      "text/html": [
       "<table class=\"dataframe\">\n",
       "<caption>A tibble: 6 × 3</caption>\n",
       "<thead>\n",
       "\t<tr><th scope=col>i</th><th scope=col>Xi</th><th scope=col>Si</th></tr>\n",
       "\t<tr><th scope=col>&lt;int&gt;</th><th scope=col>&lt;dbl&gt;</th><th scope=col>&lt;dbl&gt;</th></tr>\n",
       "</thead>\n",
       "<tbody>\n",
       "\t<tr><td>0</td><td> 0.000000e+00</td><td>50</td></tr>\n",
       "\t<tr><td>1</td><td>-1.381145e-05</td><td>NA</td></tr>\n",
       "\t<tr><td>2</td><td>-2.681216e-04</td><td>NA</td></tr>\n",
       "\t<tr><td>3</td><td> 1.764453e-04</td><td>NA</td></tr>\n",
       "\t<tr><td>4</td><td> 4.329975e-05</td><td>NA</td></tr>\n",
       "\t<tr><td>5</td><td> 1.345644e-04</td><td>NA</td></tr>\n",
       "</tbody>\n",
       "</table>\n"
      ],
      "text/latex": [
       "A tibble: 6 × 3\n",
       "\\begin{tabular}{lll}\n",
       " i & Xi & Si\\\\\n",
       " <int> & <dbl> & <dbl>\\\\\n",
       "\\hline\n",
       "\t 0 &  0.000000e+00 & 50\\\\\n",
       "\t 1 & -1.381145e-05 & NA\\\\\n",
       "\t 2 & -2.681216e-04 & NA\\\\\n",
       "\t 3 &  1.764453e-04 & NA\\\\\n",
       "\t 4 &  4.329975e-05 & NA\\\\\n",
       "\t 5 &  1.345644e-04 & NA\\\\\n",
       "\\end{tabular}\n"
      ],
      "text/markdown": [
       "\n",
       "A tibble: 6 × 3\n",
       "\n",
       "| i &lt;int&gt; | Xi &lt;dbl&gt; | Si &lt;dbl&gt; |\n",
       "|---|---|---|\n",
       "| 0 |  0.000000e+00 | 50 |\n",
       "| 1 | -1.381145e-05 | NA |\n",
       "| 2 | -2.681216e-04 | NA |\n",
       "| 3 |  1.764453e-04 | NA |\n",
       "| 4 |  4.329975e-05 | NA |\n",
       "| 5 |  1.345644e-04 | NA |\n",
       "\n"
      ],
      "text/plain": [
       "  i Xi            Si\n",
       "1 0  0.000000e+00 50\n",
       "2 1 -1.381145e-05 NA\n",
       "3 2 -2.681216e-04 NA\n",
       "4 3  1.764453e-04 NA\n",
       "5 4  4.329975e-05 NA\n",
       "6 5  1.345644e-04 NA"
      ]
     },
     "metadata": {},
     "output_type": "display_data"
    }
   ],
   "source": [
    "#create a dataframe with the new vectors \n",
    "df2 <-tibble(i = rep(0:6),\n",
    "            Xi = Xi,\n",
    "            Si = rep(NA,7) ) #add the closing prices\n",
    "\n",
    "#adding day 1 price\n",
    "df2$Si[1] <- 50\n",
    "\n",
    "\n",
    "df2 %>%head()"
   ]
  },
  {
   "cell_type": "code",
   "execution_count": 93,
   "metadata": {},
   "outputs": [
    {
     "data": {
      "text/html": [
       "<table class=\"dataframe\">\n",
       "<caption>A tibble: 7 × 3</caption>\n",
       "<thead>\n",
       "\t<tr><th scope=col>i</th><th scope=col>Xi</th><th scope=col>Si</th></tr>\n",
       "\t<tr><th scope=col>&lt;int&gt;</th><th scope=col>&lt;dbl&gt;</th><th scope=col>&lt;dbl&gt;</th></tr>\n",
       "</thead>\n",
       "<tbody>\n",
       "\t<tr><td>0</td><td> 0.000000e+00</td><td>50</td></tr>\n",
       "\t<tr><td>1</td><td>-1.381145e-05</td><td>NA</td></tr>\n",
       "\t<tr><td>2</td><td>-2.681216e-04</td><td>NA</td></tr>\n",
       "\t<tr><td>3</td><td> 1.764453e-04</td><td>NA</td></tr>\n",
       "\t<tr><td>4</td><td> 4.329975e-05</td><td>NA</td></tr>\n",
       "\t<tr><td>5</td><td> 1.345644e-04</td><td>NA</td></tr>\n",
       "\t<tr><td>6</td><td>-1.725527e-04</td><td>NA</td></tr>\n",
       "</tbody>\n",
       "</table>\n"
      ],
      "text/latex": [
       "A tibble: 7 × 3\n",
       "\\begin{tabular}{lll}\n",
       " i & Xi & Si\\\\\n",
       " <int> & <dbl> & <dbl>\\\\\n",
       "\\hline\n",
       "\t 0 &  0.000000e+00 & 50\\\\\n",
       "\t 1 & -1.381145e-05 & NA\\\\\n",
       "\t 2 & -2.681216e-04 & NA\\\\\n",
       "\t 3 &  1.764453e-04 & NA\\\\\n",
       "\t 4 &  4.329975e-05 & NA\\\\\n",
       "\t 5 &  1.345644e-04 & NA\\\\\n",
       "\t 6 & -1.725527e-04 & NA\\\\\n",
       "\\end{tabular}\n"
      ],
      "text/markdown": [
       "\n",
       "A tibble: 7 × 3\n",
       "\n",
       "| i &lt;int&gt; | Xi &lt;dbl&gt; | Si &lt;dbl&gt; |\n",
       "|---|---|---|\n",
       "| 0 |  0.000000e+00 | 50 |\n",
       "| 1 | -1.381145e-05 | NA |\n",
       "| 2 | -2.681216e-04 | NA |\n",
       "| 3 |  1.764453e-04 | NA |\n",
       "| 4 |  4.329975e-05 | NA |\n",
       "| 5 |  1.345644e-04 | NA |\n",
       "| 6 | -1.725527e-04 | NA |\n",
       "\n"
      ],
      "text/plain": [
       "  i Xi            Si\n",
       "1 0  0.000000e+00 50\n",
       "2 1 -1.381145e-05 NA\n",
       "3 2 -2.681216e-04 NA\n",
       "4 3  1.764453e-04 NA\n",
       "5 4  4.329975e-05 NA\n",
       "6 5  1.345644e-04 NA\n",
       "7 6 -1.725527e-04 NA"
      ]
     },
     "metadata": {},
     "output_type": "display_data"
    }
   ],
   "source": [
    "df2 %>% head(7)"
   ]
  },
  {
   "cell_type": "code",
   "execution_count": 99,
   "metadata": {},
   "outputs": [
    {
     "name": "stdout",
     "output_type": "stream",
     "text": [
      "[1] 0\n",
      "[1] 50\n",
      "[1] 1\n",
      "[1] 49.99931\n",
      "[1] 2\n",
      "[1] 49.98591\n",
      "[1] 3\n",
      "[1] 49.99473\n",
      "[1] 4\n",
      "[1] 49.99689\n",
      "[1] 5\n",
      "[1] 50.00362\n",
      "[1] 6\n",
      "[1] 49.99499\n"
     ]
    }
   ],
   "source": [
    "for (n in 1:nrow(df2)){\n",
    "    \n",
    "    lead = n +1\n",
    "    df2$Si[[lead]] <- df2$Si[[i]]*exp(1)^df2$Xi[[lead]]\n",
    "}"
   ]
  },
  {
   "cell_type": "code",
   "execution_count": 100,
   "metadata": {},
   "outputs": [
    {
     "data": {
      "text/html": [
       "<table class=\"dataframe\">\n",
       "<caption>A tibble: 7 × 3</caption>\n",
       "<thead>\n",
       "\t<tr><th scope=col>i</th><th scope=col>Xi</th><th scope=col>Si</th></tr>\n",
       "\t<tr><th scope=col>&lt;int&gt;</th><th scope=col>&lt;dbl&gt;</th><th scope=col>&lt;dbl&gt;</th></tr>\n",
       "</thead>\n",
       "<tbody>\n",
       "\t<tr><td>0</td><td> 0.000000e+00</td><td>50.00000</td></tr>\n",
       "\t<tr><td>1</td><td>-1.381145e-05</td><td>49.99931</td></tr>\n",
       "\t<tr><td>2</td><td>-2.681216e-04</td><td>49.98591</td></tr>\n",
       "\t<tr><td>3</td><td> 1.764453e-04</td><td>49.99473</td></tr>\n",
       "\t<tr><td>4</td><td> 4.329975e-05</td><td>49.99689</td></tr>\n",
       "\t<tr><td>5</td><td> 1.345644e-04</td><td>50.00362</td></tr>\n",
       "\t<tr><td>6</td><td>-1.725527e-04</td><td>49.99499</td></tr>\n",
       "</tbody>\n",
       "</table>\n"
      ],
      "text/latex": [
       "A tibble: 7 × 3\n",
       "\\begin{tabular}{lll}\n",
       " i & Xi & Si\\\\\n",
       " <int> & <dbl> & <dbl>\\\\\n",
       "\\hline\n",
       "\t 0 &  0.000000e+00 & 50.00000\\\\\n",
       "\t 1 & -1.381145e-05 & 49.99931\\\\\n",
       "\t 2 & -2.681216e-04 & 49.98591\\\\\n",
       "\t 3 &  1.764453e-04 & 49.99473\\\\\n",
       "\t 4 &  4.329975e-05 & 49.99689\\\\\n",
       "\t 5 &  1.345644e-04 & 50.00362\\\\\n",
       "\t 6 & -1.725527e-04 & 49.99499\\\\\n",
       "\\end{tabular}\n"
      ],
      "text/markdown": [
       "\n",
       "A tibble: 7 × 3\n",
       "\n",
       "| i &lt;int&gt; | Xi &lt;dbl&gt; | Si &lt;dbl&gt; |\n",
       "|---|---|---|\n",
       "| 0 |  0.000000e+00 | 50.00000 |\n",
       "| 1 | -1.381145e-05 | 49.99931 |\n",
       "| 2 | -2.681216e-04 | 49.98591 |\n",
       "| 3 |  1.764453e-04 | 49.99473 |\n",
       "| 4 |  4.329975e-05 | 49.99689 |\n",
       "| 5 |  1.345644e-04 | 50.00362 |\n",
       "| 6 | -1.725527e-04 | 49.99499 |\n",
       "\n"
      ],
      "text/plain": [
       "  i Xi            Si      \n",
       "1 0  0.000000e+00 50.00000\n",
       "2 1 -1.381145e-05 49.99931\n",
       "3 2 -2.681216e-04 49.98591\n",
       "4 3  1.764453e-04 49.99473\n",
       "5 4  4.329975e-05 49.99689\n",
       "6 5  1.345644e-04 50.00362\n",
       "7 6 -1.725527e-04 49.99499"
      ]
     },
     "metadata": {},
     "output_type": "display_data"
    }
   ],
   "source": [
    "df2"
   ]
  },
  {
   "cell_type": "markdown",
   "metadata": {},
   "source": [
    "# Problem 3 \n",
    "\n",
    "If the strike price of a European call is K =52, and the expiration of this call is at the end of 6 days, what is the payoff on the call?, that is what is the value of $(S_6 - K)^+$?\n",
    "\n",
    "The answer is zero because $S_6$ is less than the strike price"
   ]
  },
  {
   "cell_type": "markdown",
   "metadata": {},
   "source": [
    "# Problem 4\n",
    "\n",
    "Could you use the present value of $(S_6 - K)^+$ in 3) as an approximation of the cost on the call. \n",
    "\n",
    "In short yes, but a better method is to run the simulation for multiple times and take the average of the day 6 pay offs to get a better approximation of the risk neutral payoff.\n"
   ]
  },
  {
   "cell_type": "code",
   "execution_count": 127,
   "metadata": {},
   "outputs": [
    {
     "name": "stdout",
     "output_type": "stream",
     "text": [
      "[1] 51.98762\n"
     ]
    }
   ],
   "source": [
    "#calculate the PV of the strike price\n",
    "\n",
    "PvK <- K*exp(1)^(r *(-6/252))\n",
    "\n",
    "print(PvK)"
   ]
  },
  {
   "cell_type": "code",
   "execution_count": 128,
   "metadata": {},
   "outputs": [
    {
     "name": "stdout",
     "output_type": "stream",
     "text": [
      "[1] 0\n"
     ]
    }
   ],
   "source": [
    "#instantiate an empty array\n",
    "payout <- c()\n",
    "\n",
    "#run the simulation 100 times\n",
    "for (i in rep(1:10)){\n",
    "\n",
    "    #print(i)\n",
    "   \n",
    "    #generate 6 closing prices from the distribution\n",
    "    Xi <-rnorm(6,  mean = cent, sd = dev)\n",
    "    \n",
    "    #instantiate an empty array of closing prices\n",
    "    Si <- rep(NA,6)\n",
    "    \n",
    "    #adding day 1 price\n",
    "    Si[1] <- 50\n",
    "\n",
    "    #loop through the entire closing prices and convert Sd from the random number generator\n",
    "    for(n in rep(1:length(Si))){\n",
    "        \n",
    "        lead = n+1\n",
    "        Si[lead] = Si[n]*exp(1)^Xi[lead]\n",
    "        \n",
    "        }\n",
    "    \n",
    "    #calculate the payout\n",
    "    if (Si[6] < PvK){\n",
    "        pay <- 0 \n",
    "    }else{\n",
    "        pay <- (Si[6] - PvK)\n",
    "    }\n",
    "    \n",
    "    payout<- append(payout, pay)\n",
    "    \n",
    "  \n",
    "    \n",
    "    \n",
    "}\n",
    "\n",
    "\n",
    "#average the payout over the number of times the simulation was ran \n",
    "valuation <- sum(payout) / length(payout)\n",
    "\n",
    "#print the valuation \n",
    "print(valuation)"
   ]
  },
  {
   "cell_type": "code",
   "execution_count": 119,
   "metadata": {},
   "outputs": [
    {
     "data": {
      "text/html": [
       "6"
      ],
      "text/latex": [
       "6"
      ],
      "text/markdown": [
       "6"
      ],
      "text/plain": [
       "[1] 6"
      ]
     },
     "metadata": {},
     "output_type": "display_data"
    }
   ],
   "source": []
  },
  {
   "cell_type": "code",
   "execution_count": null,
   "metadata": {},
   "outputs": [],
   "source": []
  }
 ],
 "metadata": {
  "kernelspec": {
   "display_name": "R",
   "language": "R",
   "name": "ir"
  },
  "language_info": {
   "codemirror_mode": "r",
   "file_extension": ".r",
   "mimetype": "text/x-r-source",
   "name": "R",
   "pygments_lexer": "r",
   "version": "4.0.3"
  }
 },
 "nbformat": 4,
 "nbformat_minor": 4
}
