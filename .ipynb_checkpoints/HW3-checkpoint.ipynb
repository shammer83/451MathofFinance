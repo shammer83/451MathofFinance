{
 "cells": [
  {
   "cell_type": "markdown",
   "metadata": {},
   "source": [
    "#### 2.1.a\n",
    "\n",
    "$P\\{Z < -0.66\\}$\n",
    "\n",
    "##### solution a. \n",
    "\n",
    "$\\Phi(-0.66) = 1 - \\Phi(0.66)$ \n",
    "\n",
    "= 1 - 0.7454\n",
    "\n",
    "= 0.2546"
   ]
  },
  {
   "cell_type": "markdown",
   "metadata": {},
   "source": [
    "##### 2.1.b\n",
    "\n",
    "$P\\{ |Z| < 1.64 \\}$ \n",
    "\n",
    "$\\Rightarrow P\\{-1.64 < Z < 1.64 \\}$\n",
    "\n",
    "$\\Rightarrow \\Phi(1.64) - \\Phi(-1.64)$\n",
    "\n",
    "$\\Rightarrow \\Phi(1.64 - (1- \\Phi(1.64))$\n",
    "\n",
    "$\\Rightarrow 0.9495 -(1-0.9495)$\n",
    "\n",
    "$= 0.899$"
   ]
  },
  {
   "cell_type": "markdown",
   "metadata": {},
   "source": [
    "#### 2.1.c\n",
    "\n",
    "$P\\{|Z| > 2.20 \\}$\n",
    "\n",
    "$\\Rightarrow P\\{-2.20 > Z > 2.20 \\}$\n",
    "\n",
    "$1 - P\\{-2.20 < Z < 2.20 \\}$\n",
    "\n",
    "$1 - ( \\Phi(2.20 - (1- \\Phi(2.20))$\n",
    "\n",
    "= 0.0278"
   ]
  },
  {
   "cell_type": "markdown",
   "metadata": {},
   "source": [
    "##### 2.3 \n",
    "\n",
    "Prove $P\\{|Z| > X\\} = 2P\\{ Z > X \\}$\n",
    "\n",
    "$\\Rightarrow  P\\{ -X > Z > X\\}$ \n",
    "\n",
    "$\\Rightarrow P\\{-X > Z\\}$ and $P\\{Z > X \\}$\n",
    "\n",
    "And ..\n",
    "\n",
    "$P\\{-X > X\\} \\Rightarrow P\\{Z > X\\}$\n",
    "\n",
    "Therefore $2P(Z > X)$"
   ]
  },
  {
   "cell_type": "markdown",
   "metadata": {},
   "source": [
    "#### 2.5.a\n",
    "\n",
    "The systolic blood pressure of male adults is normally distributed with a mean of 127.7 and a standard deviation of 19.2. \n",
    "\n",
    "##### 2.5.a solution\n",
    "\n",
    "$\\mu_x =127.7$ and $\\sigma = 19.2$\n",
    "\n",
    "by example 2.3b\n",
    "\n",
    "$127.7 \\pm 19.2$\n",
    "\n",
    "$\\Rightarrow 108.5 < X < 146.9$"
   ]
  },
  {
   "cell_type": "markdown",
   "metadata": {},
   "source": [
    "#### 2.6. a\n",
    "\n",
    "Suppose that the amount of time that a certain battery functions in a normal random variable with mean 400 hours and standard deviation 50 hours. Suppose that an individual owns two batteries, one of which is to be used as a spare to replace the other when it fails.\n",
    "\n",
    "What is the probability that the total life of the batteries will exceed 760 hours? \n",
    "\n",
    "#### 2.6.a solution\n",
    "\n",
    "$\\mu_x = 400$ and $\\sigma = 50$\n",
    "\n",
    "then because $X_1$ and $X_2$ are RVs that are i.i.d. \n",
    "\n",
    "$P\\{X_1 + X_2 > 760 \\} = P\\{ Z > \\frac{760 - 800}{\\sqrt(2(50)^2} \\}$ \n",
    "\n",
    "$=P\\{Z > -0.57\\}$ \n",
    "\n",
    "$=P\\{Z < 0.57\\}$\n",
    "\n",
    "$=\\Phi(0.3535)$\n",
    "\n",
    "$= 0.7157$"
   ]
  },
  {
   "cell_type": "markdown",
   "metadata": {},
   "source": [
    "#### 2.7.b\n",
    "\n",
    "The time it takes to develop a photgraphic print is a random variable with mean 18 seconds and a standard deviation 1 second.  Approximate the probability that the total amount of time that it takes to process 100 prints is\n",
    "\n",
    "between $1690$ and $1710$ seconds\n",
    "\n",
    "##### 2.7b  Solution\n",
    "\n",
    "$\\bar{X} = 18$\n",
    "\n",
    "$P\\{ 1690 < \\bar{X} < 1710 \\}$ \n",
    "\n",
    "$\\Rightarrow P\\{ Z < \\frac{1710 - 1800}{\\sqrt{100(1)^2}} \\}$\n",
    "\n",
    "$\\Rightarrow P\\{ Z < -9 \\}$ the upper limit\n",
    "\n",
    "and ... \n",
    "\n",
    "$\\Rightarrow P\\{Z > \\frac{1690 - 1800}{\\sqrt{100(1)^2}} \\}$\n",
    "\n",
    "$P\\{Z > -9 \\}$ \n",
    "\n",
    "Therefore\n",
    "\n",
    "$P\\{-11 < Z < -9 \\}$ \n",
    "\n",
    "$P\\{9 < Z < 11\\}$ \n",
    "\n",
    "$= \\Phi(11) - \\Phi(9)$\n",
    "\n",
    "$= 1 -1 = 0 $"
   ]
  },
  {
   "cell_type": "markdown",
   "metadata": {},
   "source": [
    "#### 2.9 \n",
    "\n",
    "A model for the movement of a stock supposes that, if the present price of the stock is $s$, then after one time period it will either be $us$ with probability p or $ds$ with probability $1-p.$ Assuming that successive movements are independent, approximate the probability that the stock's price will be up at least $30%$ after the next 1,000 time periods if $u = 1.012$, $d = .990$, and $p = 0.52$\n",
    "\n",
    "\n",
    "#### Solution \n",
    "\n",
    "\n",
    "$su^xd^{100-x}$ \n",
    "\n",
    "$\\Rightarrow su^x d^{1000} d^-x$\n",
    "\n",
    "$\\Rightarrow s \\frac{u^x}{d^x}d^{1000}$\n",
    "\n",
    "$\\Rightarrow s(\\frac{u}{d})^xd^{1000}$\n",
    "\n",
    "In order to be greater by 30% \n",
    "\n",
    "$s(\\frac{u}{d})^xd^{1000} > 1.30s \n",
    "\n",
    "$\\Rightarrow (\\frac{u}{d})^xd^{1000} \\ge 1.30$\n",
    "\n",
    "$\\Rightarrow 1000 log(d) + x log(\\frac{u}{d}) \\ge log(1.30)$\n",
    "\n",
    "$x \\ge \\frac{log(1.3) - 1000log(d)}{\\frac{u}{d}}$\n",
    "\n",
    "$x \\ge \\frac{log(1.3) - 1000log(0.990)}{\\frac{1.012}{0.990}}$\n",
    "\n",
    "$x \\ge 469.208$\n",
    "\n",
    "So it will take at least 470 time periods for the stock to increase to be 30\\% greater\n",
    "\n",
    "Therefore X is a bimial with $n = 470, p = 0.52$\n",
    "\n",
    "$P\\{ X \\ge 470) = P"
   ]
  },
  {
   "cell_type": "code",
   "execution_count": null,
   "metadata": {},
   "outputs": [],
   "source": []
  }
 ],
 "metadata": {
  "kernelspec": {
   "display_name": "R",
   "language": "R",
   "name": "ir"
  },
  "language_info": {
   "codemirror_mode": "r",
   "file_extension": ".r",
   "mimetype": "text/x-r-source",
   "name": "R",
   "pygments_lexer": "r",
   "version": "3.6.1"
  }
 },
 "nbformat": 4,
 "nbformat_minor": 2
}
