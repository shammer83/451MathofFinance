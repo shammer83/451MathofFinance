{
 "cells": [
  {
   "cell_type": "markdown",
   "metadata": {},
   "source": [
    "$Derek\\:Haynes\\\\\n",
    "Mathematical\\:Finance\\\\\n",
    "HW\\:week\\:1$"
   ]
  },
  {
   "cell_type": "markdown",
   "metadata": {},
   "source": [
    "#### 1.1\n",
    "\n",
    "When typing a report, certain typist makes $i$ errors with probability $p_i(i \\gt 0)$, where: \n",
    "\n",
    "$p_0 = 0.20, p_1 = 0.35, p_2 = 0.25, p_3 = .15$ \n",
    "\n",
    "(a) at least four errors; \n",
    "\n",
    "(b) at most two errors? \n",
    "\n",
    "#### Solution 1.1 a:\n",
    "\n",
    "$ p_i( i \\le 4) = p_0 + p_1 + p_2 + p_3 $\n",
    "\n",
    "$ = .20 + .35 + .25 + .15$ \n",
    "\n",
    "$ = 0.95$\n",
    "\n",
    "$1 - p_i( i \\le 4)  = 0.05$ \n",
    "\n",
    "Therefore the likely hood that there is at least 4 errors is 0.05\n",
    "\n",
    "#### solution 1.1 b \n",
    "\n",
    "$p_i( i < 3) = p_0 + p_1 + p_2$  \n",
    "\n",
    "$p_i( i < 3) = .20 + .35 + .25$  \n",
    "\n",
    "$= 0.80$\n",
    "\n",
    "\n"
   ]
  },
  {
   "cell_type": "markdown",
   "metadata": {},
   "source": [
    "#### 1.2 \n",
    "\n",
    "A family picnic for tomorrow will be postponed if it is either rainy or cloudy. If the probability that it will be cloudy is .40, the probability that it will be rainy is .30, and the probability that it will be both rainy and cloudy is .20, what is the probablibility that the picnic will not be postponed? \n",
    "\n",
    "#### 1.2 Solution \n",
    "\n",
    "$P(rain) = P(R) = 0.30$\n",
    "\n",
    "$P(cloudy) = P(C) = 0.40$\n",
    "\n",
    "$P(CR) = .20$\n",
    "\n",
    "$P(C \\cup R) = P(C)+P(R) - P(CR)$ \n",
    "\n",
    "$ = 0.50$\n",
    "\n",
    "Therefore the probability that the picnic won't be canceled ... \n",
    "\n",
    "$ P( won't \\: be \\: canx)= 1 - P(C \\cup R)$ \n",
    "\n",
    "$ = 0.50$\n",
    "\n"
   ]
  },
  {
   "cell_type": "markdown",
   "metadata": {},
   "source": [
    "#### 1.3\n",
    "\n",
    "If two people are randomly chose from a group of eight women and six men, what is the probability that\n",
    "\n",
    "a) both are women? \n",
    "\n",
    "b) both are men? \n",
    "\n",
    "c) one is a man and the other a woman? "
   ]
  },
  {
   "cell_type": "markdown",
   "metadata": {},
   "source": [
    "#### Solution 1.3.a\n",
    "\n",
    "$P(w_1,w_2) = \\frac{8}{14} \\cdot \\frac{7}{13}$ \n",
    "\n",
    "#### Solution 1.3.b\n",
    "\n",
    "$P(m_1, m_2) = \\frac{6}{14} \\cdot \\frac{5}{13}$ \n",
    "\n",
    "#### Solution 1.3.c\n",
    "\n",
    "$P(m_1, w_2) + P(w_1, m_2) = \\frac{48}{91}$"
   ]
  },
  {
   "cell_type": "markdown",
   "metadata": {},
   "source": [
    "Solution diagram\n",
    "\n",
    "![imagename](1.3abc.jpg)"
   ]
  },
  {
   "cell_type": "markdown",
   "metadata": {},
   "source": [
    "#### 1.7  \n",
    "\n",
    "If A and B are independent show that so are\n",
    "\n",
    "a)  $A$ and $B^c$\n",
    "\n",
    "#### Solution 1.7a \n",
    "\n",
    "b) Suppose $A$ and $B^c$ are independent\n",
    "\n",
    "then $P(AB^c) = P(A) - P(AB)$\n",
    "\n",
    "$= P(A) - P(A)P(B)$\n",
    "\n",
    "$= P(A)(1 - P(B))$\n",
    "\n",
    "$ = P(A)P(B^c)$\n",
    "\n",
    "Therefore $A$ and $B^c$ are independent\n",
    "\n",
    "#### Solution 1.7b\n",
    "\n",
    "Suppose $A^c$ and $B^c$ are independent.... \n",
    "\n",
    "Then $P(A^c\\ B^c) = 1 - P(A \\cup B) $\n",
    "\n",
    "$ = 1 - ( P(A) + P(B) - P(AB)) $\n",
    "\n",
    "$ = 1 - P(A) - P(B) + P(A)P(B)$\n",
    "\n",
    "$ = (1 - P(A))(1-P(B))$\n",
    "\n",
    "$ = P(A^c)P(B^c)$\n",
    "\n",
    "Therefore $A^c$ and $B^c$ are independent\n",
    "\n"
   ]
  },
  {
   "cell_type": "markdown",
   "metadata": {},
   "source": [
    "#### 1.11 \n",
    "\n",
    "Verify that $Var(X) = E[X^2] - (E[X])^2$\n",
    "\n",
    "#### Solution 1.11\n",
    "\n",
    "$Var(X) = E[(X-E[X])^2]$\n",
    "\n",
    "= $E[(X^2 - 2XE[X] + E[X]^2)]$\n",
    "\n",
    "since $E[X] = \\mu$ or the mean\n",
    "\n",
    "we have $ E[X^2 - 2X\\mu + \\mu^2]$\n",
    "\n",
    "using the fact that the expected value of a sum of random variables is equal to the sum of their expectations \n",
    "\n",
    "then $E[X^2] - 2\\mu E[X] + E[X]^2$\n",
    "\n",
    "= $E[X^2] - 2E[X]^2 + E[X]^2$\n",
    "\n",
    "= $E[X^2] - E[X]$"
   ]
  },
  {
   "cell_type": "code",
   "execution_count": null,
   "metadata": {},
   "outputs": [],
   "source": []
  },
  {
   "cell_type": "code",
   "execution_count": null,
   "metadata": {},
   "outputs": [],
   "source": []
  }
 ],
 "metadata": {
  "kernelspec": {
   "display_name": "R",
   "language": "R",
   "name": "ir"
  },
  "language_info": {
   "codemirror_mode": "r",
   "file_extension": ".r",
   "mimetype": "text/x-r-source",
   "name": "R",
   "pygments_lexer": "r",
   "version": "3.6.1"
  }
 },
 "nbformat": 4,
 "nbformat_minor": 2
}
